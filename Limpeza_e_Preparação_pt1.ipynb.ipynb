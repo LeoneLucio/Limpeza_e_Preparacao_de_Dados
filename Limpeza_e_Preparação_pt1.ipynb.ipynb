{
 "cells": [
  {
   "cell_type": "markdown",
   "metadata": {},
   "source": [
    "# Módulo 5 Tarefa 1\n",
    "## Base de nascidos vivos do DataSUS\n",
    "O DataSUS disponibiliza diversos arquivos de dados com relação a seus segurados, conforme a [lei da transparência de informações públicas](https://www.sisgov.com/transparencia-acesso-informacao/#:~:text=A%20Lei%20da%20Transpar%C3%AAncia%20(LC,em%20um%20site%20na%20internet.). \n",
    "\n",
    "Essas informações podem ser obtidas pela internet [aqui](http://www2.datasus.gov.br/DATASUS/index.php?area=0901&item=1). Como o processo de obtenção desses arquivos foge um pouco do nosso escopo, deixamos o arquivo ```SINASC_RO_2019.csv``` já como vai ser encontrado no DataSUS. O dicionário de dados está no arquivo ```estrutura_sinasc_para_CD.pdf``` (o nome do arquivo tal qual no portal do DataSUS).\n",
    "\n",
    "### Nosso objetivo\n",
    "Queremos deixar uma base organizada para podermos estudar a relação entre partos com risco para o bebê e algumas condições como tempo de parto, consultas de pré-natal etc.\n",
    "\n",
    "#### Preparação da base\n",
    "1. Carregue a base 'SINASC_RO_2019.csv'. Conte o número de registros e o número de registros não duplicados da base. Dica: você aprendeu um método que remove duplicados, encadeie este método com um outro método que conta o número de linhas. **Há linhas duplicadas?**  \n",
    "\n",
    "2. Conte o número de valores *missing* por variável.  \n",
    "\n",
    "3. Ok, no item anterior você deve ter achado pouco prático ler a informação de tantas variáveis, muitas delas nem devem ser interesantes. Então crie uma seleção dessa base somente com as colunas que interessam. São elas:\n",
    "``` \n",
    "['LOCNASC', 'IDADEMAE', 'ESTCIVMAE', 'ESCMAE', 'QTDFILVIVO', \n",
    "    'GESTACAO', 'GRAVIDEZ', 'CONSULTAS', 'APGAR5'] \n",
    "```\n",
    "Refaça a contagem de valores *missings*.  \n",
    "\n",
    "4. Apgar é uma *nota* que o pediatra dá ao bebê quando nasce de acordo com algumas características associadas principalmente à respiração. Apgar 1 e Apgar 5 são as notas 1 e 5 minutos do nascimento. Apgar5 será a nossa variável de interesse principal. Então remova todos os registros com Apgar5 não preenchido. Para esta seleção, conte novamente o número de linhas e o número de *missings*.  \n",
    "\n",
    "5. observe que as variáveis ```['ESTCIVMAE', 'CONSULTAS']``` possuem o código ```9```, que significa *ignorado*. Vamos assumir que o não preenchido é o mesmo que o código ```9```.<br>\n",
    "6. Substitua os valores faltantes da quantitativa (```QTDFILVIVO```) por zero.  \n",
    "7. Das restantes, decida que valore te parece mais adequado (um 'não preenchido' ou um valor 'mais provável' como no item anterior) e preencha. Justifique. Lembre-se de que tratamento de dados é trabalho do cientista, e que estamos tomando decisões a todo o momento - não há necessariamente certo e errado aqui.  \n",
    "8. O Apgar possui uma classificação indicando se o bebê passou por asfixia:\n",
    "- Entre 8 e 10 está em uma faixa 'normal'. \n",
    "- Entre 6 e 7, significa que o recém-nascido passou por 'asfixia leve'. \n",
    "- Entre 4 e 5 significa 'asfixia moderada'.\n",
    "- Entre 0 e 3 significa 'asfixia severa'.  \n",
    "\n",
    "Crie uma categorização dessa variável com essa codificação e calcule as frequências dessa categorização.  \n",
    "<br>\n",
    "9. Renomeie as variáveis para que fiquem no *snake case*, ou seja, em letras minúsculas, com um *underscore* entre as palávras. Dica: repare que se você não quiser criar um *dataframe* novo, você vai precisar usar a opção ```inplace = True```."
   ]
  },
  {
   "cell_type": "code",
   "execution_count": 2,
   "metadata": {},
   "outputs": [
    {
     "name": "stdout",
     "output_type": "stream",
     "text": [
      "(27028, 69)\n",
      "(27028, 69)\n"
     ]
    }
   ],
   "source": [
    "import pandas as pd\n",
    "import requests\n",
    "\n",
    "# 1) seu código aqui\n",
    "\n",
    "sinasc = pd.read_csv('SINASC_RO_2019.csv')\n",
    "print(sinasc.shape)\n",
    "sinasc.drop_duplicates().shape\n",
    "\n",
    "# Imprima o número de registros não duplicados\n",
    "print(sinasc.drop_duplicates().shape)\n",
    "\n",
    "# Não há duplicados"
   ]
  },
  {
   "cell_type": "code",
   "execution_count": null,
   "metadata": {},
   "outputs": [
    {
     "name": "stdout",
     "output_type": "stream",
     "text": [
      "ORIGEM          0\n",
      "CODESTAB      115\n",
      "CODMUNNASC      0\n",
      "LOCNASC         0\n",
      "IDADEMAE        0\n",
      "             ... \n",
      "munResUf        0\n",
      "munResLat       1\n",
      "munResLon       1\n",
      "munResAlt       1\n",
      "munResArea      1\n",
      "Length: 69, dtype: int64\n"
     ]
    }
   ],
   "source": [
    "missing_values = sinasc.isnull().sum()\n",
    "print(missing_values)"
   ]
  },
  {
   "cell_type": "code",
   "execution_count": null,
   "metadata": {},
   "outputs": [
    {
     "name": "stdout",
     "output_type": "stream",
     "text": [
      "LOCNASC          0\n",
      "IDADEMAE         0\n",
      "ESTCIVMAE      317\n",
      "ESCMAE         312\n",
      "QTDFILVIVO    1573\n",
      "GESTACAO      1232\n",
      "GRAVIDEZ        79\n",
      "CONSULTAS        0\n",
      "APGAR5         103\n",
      "dtype: int64\n"
     ]
    }
   ],
   "source": [
    "colunas_interesse = ['LOCNASC', 'IDADEMAE', 'ESTCIVMAE', 'ESCMAE', 'QTDFILVIVO',\n",
    "                     'GESTACAO', 'GRAVIDEZ', 'CONSULTAS', 'APGAR5']\n",
    "\n",
    "sinasc_selecionado = sinasc[colunas_interesse]# Criar uma nova DataFrame com apenas as colunas de interesse\n",
    "missing_values_selecionado = sinasc_selecionado.isnull().sum()# Contar o número de valores nulos nas colunas selecionadas\n",
    "print(missing_values_selecionado)"
   ]
  },
  {
   "cell_type": "code",
   "execution_count": null,
   "metadata": {},
   "outputs": [
    {
     "name": "stdout",
     "output_type": "stream",
     "text": [
      "Número de linhas após remoção: 26925\n",
      "\n",
      "Número de valores nulos após remoção:\n",
      "LOCNASC          0\n",
      "IDADEMAE         0\n",
      "ESTCIVMAE      315\n",
      "ESCMAE         310\n",
      "QTDFILVIVO    1566\n",
      "GESTACAO      1216\n",
      "GRAVIDEZ        76\n",
      "CONSULTAS        0\n",
      "APGAR5           0\n",
      "dtype: int64\n"
     ]
    }
   ],
   "source": [
    "sinasc_filtrado = sinasc_selecionado.dropna(subset=['APGAR5'])# Remover registros com APGAR5 não preenchido\n",
    "num_linhas_filtrado = sinasc_filtrado.shape[0]# Contar o número de linhas no DataFrame filtrado\n",
    "missing_values_filtrado = sinasc_filtrado.isnull().sum()# Contar o número de valores nulos nas colunas selecionadas no DataFrame filtrado\n",
    "\n",
    "print(f\"Número de linhas após remoção: {num_linhas_filtrado}\")\n",
    "print(\"\\nNúmero de valores nulos após remoção:\")\n",
    "print(missing_values_filtrado)\n"
   ]
  },
  {
   "cell_type": "code",
   "execution_count": null,
   "metadata": {},
   "outputs": [
    {
     "name": "stdout",
     "output_type": "stream",
     "text": [
      "\n",
      "Número de valores nulos após atualização:\n",
      "LOCNASC          0\n",
      "IDADEMAE         0\n",
      "ESTCIVMAE      459\n",
      "ESCMAE         310\n",
      "QTDFILVIVO    1566\n",
      "GESTACAO      1216\n",
      "GRAVIDEZ        76\n",
      "CONSULTAS       50\n",
      "APGAR5           0\n",
      "dtype: int64\n"
     ]
    },
    {
     "name": "stderr",
     "output_type": "stream",
     "text": [
      "C:\\Users\\Administrador\\AppData\\Local\\Temp\\ipykernel_6320\\909419691.py:2: SettingWithCopyWarning: \n",
      "A value is trying to be set on a copy of a slice from a DataFrame\n",
      "\n",
      "See the caveats in the documentation: https://pandas.pydata.org/pandas-docs/stable/user_guide/indexing.html#returning-a-view-versus-a-copy\n",
      "  sinasc_filtrado['ESTCIVMAE'].replace(9, float('nan'), inplace=True)\n",
      "C:\\Users\\Administrador\\AppData\\Local\\Temp\\ipykernel_6320\\909419691.py:3: SettingWithCopyWarning: \n",
      "A value is trying to be set on a copy of a slice from a DataFrame\n",
      "\n",
      "See the caveats in the documentation: https://pandas.pydata.org/pandas-docs/stable/user_guide/indexing.html#returning-a-view-versus-a-copy\n",
      "  sinasc_filtrado['CONSULTAS'].replace(9, float('nan'), inplace=True)\n"
     ]
    }
   ],
   "source": [
    "sinasc_filtrado['ESTCIVMAE'].replace(9, float('nan'), inplace=True)\n",
    "sinasc_filtrado['CONSULTAS'].replace(9, float('nan'), inplace=True)\n",
    "\n",
    "# Contar novamente o número de valores nulos nas colunas selecionadas\n",
    "missing_values_atualizado = sinasc_filtrado.isnull().sum()\n",
    "\n",
    "# Exibir resultados atualizados\n",
    "print(\"\\nNúmero de valores nulos após atualização:\")\n",
    "print(missing_values_atualizado)"
   ]
  },
  {
   "cell_type": "code",
   "execution_count": null,
   "metadata": {},
   "outputs": [
    {
     "name": "stdout",
     "output_type": "stream",
     "text": [
      "\n",
      "Número de valores nulos após atualização:\n",
      "LOCNASC          0\n",
      "IDADEMAE         0\n",
      "ESTCIVMAE      459\n",
      "ESCMAE         310\n",
      "QTDFILVIVO       0\n",
      "GESTACAO      1216\n",
      "GRAVIDEZ        76\n",
      "CONSULTAS       50\n",
      "APGAR5           0\n",
      "dtype: int64\n"
     ]
    },
    {
     "name": "stderr",
     "output_type": "stream",
     "text": [
      "C:\\Users\\Administrador\\AppData\\Local\\Temp\\ipykernel_6320\\2500096757.py:3: SettingWithCopyWarning: \n",
      "A value is trying to be set on a copy of a slice from a DataFrame\n",
      "\n",
      "See the caveats in the documentation: https://pandas.pydata.org/pandas-docs/stable/user_guide/indexing.html#returning-a-view-versus-a-copy\n",
      "  sinasc_filtrado['QTDFILVIVO'].fillna(0, inplace=True) #Substituir valores faltantes na coluna 'QTDFILVIVO' por zero\n"
     ]
    }
   ],
   "source": [
    "sinasc_filtrado['QTDFILVIVO'].fillna(0, inplace=True) #Substituir valores faltantes na coluna 'QTDFILVIVO' por zero\n",
    "missing_values_atualizado = sinasc_filtrado.isnull().sum() #Contar novamente o número de valores nulos nas colunas selecionadas\n",
    "\n",
    "print(\"\\nNúmero de valores nulos após atualização:\")\n",
    "print(missing_values_atualizado)\n"
   ]
  },
  {
   "cell_type": "code",
   "execution_count": null,
   "metadata": {},
   "outputs": [
    {
     "name": "stdout",
     "output_type": "stream",
     "text": [
      "Número de linhas após remoção: 26925\n",
      "\n",
      "Número de valores nulos após remoção:\n",
      "LOCNASC          0\n",
      "IDADEMAE         0\n",
      "ESTCIVMAE        0\n",
      "ESCMAE         310\n",
      "QTDFILVIVO       0\n",
      "GESTACAO      1216\n",
      "GRAVIDEZ        76\n",
      "CONSULTAS        0\n",
      "APGAR5           0\n",
      "dtype: int64\n",
      "\n",
      "Dados da coluna 'CONSULTAS' após a substituição com a média da coluna:\n",
      "0        4.0\n",
      "1        4.0\n",
      "2        4.0\n",
      "3        3.0\n",
      "4        4.0\n",
      "        ... \n",
      "27023    4.0\n",
      "27024    4.0\n",
      "27025    4.0\n",
      "27026    4.0\n",
      "27027    4.0\n",
      "Name: CONSULTAS, Length: 26925, dtype: float64\n",
      "\n",
      "Dados da coluna 'QTDFILVIVO' após a substituição com a média da coluna:\n",
      "0        0.0\n",
      "1        1.0\n",
      "2        2.0\n",
      "3        0.0\n",
      "4        1.0\n",
      "        ... \n",
      "27023    1.0\n",
      "27024    0.0\n",
      "27025    0.0\n",
      "27026    1.0\n",
      "27027    1.0\n",
      "Name: QTDFILVIVO, Length: 26925, dtype: float64\n"
     ]
    },
    {
     "name": "stderr",
     "output_type": "stream",
     "text": [
      "C:\\Users\\Administrador\\AppData\\Local\\Temp\\ipykernel_6320\\4149055000.py:6: SettingWithCopyWarning: \n",
      "A value is trying to be set on a copy of a slice from a DataFrame\n",
      "\n",
      "See the caveats in the documentation: https://pandas.pydata.org/pandas-docs/stable/user_guide/indexing.html#returning-a-view-versus-a-copy\n",
      "  sinasc_filtrado['ESTCIVMAE'].fillna(9, inplace=True)\n",
      "C:\\Users\\Administrador\\AppData\\Local\\Temp\\ipykernel_6320\\4149055000.py:21: SettingWithCopyWarning: \n",
      "A value is trying to be set on a copy of a slice from a DataFrame\n",
      "\n",
      "See the caveats in the documentation: https://pandas.pydata.org/pandas-docs/stable/user_guide/indexing.html#returning-a-view-versus-a-copy\n",
      "  sinasc_filtrado['CONSULTAS'].fillna(media_consultas, inplace=True)\n",
      "C:\\Users\\Administrador\\AppData\\Local\\Temp\\ipykernel_6320\\4149055000.py:30: SettingWithCopyWarning: \n",
      "A value is trying to be set on a copy of a slice from a DataFrame\n",
      "\n",
      "See the caveats in the documentation: https://pandas.pydata.org/pandas-docs/stable/user_guide/indexing.html#returning-a-view-versus-a-copy\n",
      "  sinasc_filtrado['QTDFILVIVO'].fillna(media_qtdfilvivo, inplace=True)\n"
     ]
    }
   ],
   "source": [
    "sinasc_filtrado['ESTCIVMAE'].fillna(9, inplace=True)\n",
    "inasc_filtrado = sinasc_selecionado.dropna(subset=['CONSULTAS'])\n",
    "num_linhas_filtrado = sinasc_filtrado.shape[0]\n",
    "missing_values_filtrado = sinasc_filtrado.isnull().sum()\n",
    "print(f\"Número de linhas após remoção: {num_linhas_filtrado}\")\n",
    "print(\"\\nNúmero de valores nulos após remoção:\")\n",
    "print(missing_values_filtrado)\n",
    "\n",
    "\n",
    "media_consultas = sinasc_filtrado['CONSULTAS'].mean()\n",
    "\n",
    "# Preencher valores faltantes na coluna 'CONSULTAS' com a média da coluna\n",
    "sinasc_filtrado['CONSULTAS'].fillna(media_consultas, inplace=True)\n",
    "\n",
    "# Exibir os dados da coluna 'CONSULTAS' após a substituição\n",
    "print(\"\\nDados da coluna 'CONSULTAS' após a substituição com a média da coluna:\")\n",
    "print(sinasc_filtrado['CONSULTAS'])\n",
    "\n",
    "media_qtdfilvivo = sinasc_filtrado['QTDFILVIVO'].mean()\n",
    "\n",
    "# Preencher valores faltantes na coluna 'QTDFILVIVO' com a média da coluna\n",
    "sinasc_filtrado['QTDFILVIVO'].fillna(media_qtdfilvivo, inplace=True)\n",
    "\n",
    "# Exibir os dados da coluna 'QTDFILVIVO' após a substituição\n",
    "print(\"\\nDados da coluna 'QTDFILVIVO' após a substituição com a média da coluna:\")\n",
    "print(sinasc_filtrado['QTDFILVIVO'])"
   ]
  },
  {
   "cell_type": "code",
   "execution_count": 16,
   "metadata": {},
   "outputs": [
    {
     "name": "stdout",
     "output_type": "stream",
     "text": [
      "\n",
      "Frequências da categorização do APGAR:\n",
      "APGAR_CATEGORIA\n",
      "Normal              18311\n",
      "Asfixia Leve          124\n",
      "Asfixia Severa         59\n",
      "Asfixia Moderada       38\n",
      "Name: count, dtype: int64\n"
     ]
    },
    {
     "name": "stderr",
     "output_type": "stream",
     "text": [
      "C:\\Users\\Administrador\\AppData\\Local\\Temp\\ipykernel_6320\\3445994268.py:6: SettingWithCopyWarning: \n",
      "A value is trying to be set on a copy of a slice from a DataFrame.\n",
      "Try using .loc[row_indexer,col_indexer] = value instead\n",
      "\n",
      "See the caveats in the documentation: https://pandas.pydata.org/pandas-docs/stable/user_guide/indexing.html#returning-a-view-versus-a-copy\n",
      "  sinasc_filtrado['APGAR_CATEGORIA'] = pd.cut(sinasc_filtrado['APGAR5'], bins=intervalos, labels=rotulos, right=False)\n"
     ]
    }
   ],
   "source": [
    "# 8) seu código aqui\n",
    "intervalos = [-1, 3, 5, 7, 10]\n",
    "rotulos = ['Asfixia Severa', 'Asfixia Moderada', 'Asfixia Leve', 'Normal']\n",
    "\n",
    "# Criar a nova coluna 'APGAR_CATEGORIA' com base na categorização\n",
    "sinasc_filtrado['APGAR_CATEGORIA'] = pd.cut(sinasc_filtrado['APGAR5'], bins=intervalos, labels=rotulos, right=False)\n",
    "\n",
    "# Exibir as frequências da categorização\n",
    "frequencias_apgar = sinasc_filtrado['APGAR_CATEGORIA'].value_counts()\n",
    "print(\"\\nFrequências da categorização do APGAR:\")\n",
    "print(frequencias_apgar)"
   ]
  },
  {
   "cell_type": "code",
   "execution_count": null,
   "metadata": {},
   "outputs": [
    {
     "name": "stdout",
     "output_type": "stream",
     "text": [
      "\n",
      "DataFrame com colunas em snake_case:\n",
      "   locnasc  idademae  estcivmae           escmae  qtdfilvivo         gestacao  \\\n",
      "0        1        19        5.0      8 a 11 anos         0.0  37 a 41 semanas   \n",
      "1        1        29        2.0      8 a 11 anos         1.0  37 a 41 semanas   \n",
      "2        1        37        9.0      8 a 11 anos         2.0  37 a 41 semanas   \n",
      "3        1        30        5.0  12 anos ou mais         0.0  37 a 41 semanas   \n",
      "4        1        30        2.0      8 a 11 anos         1.0  37 a 41 semanas   \n",
      "\n",
      "  gravidez  consultas  apgar5 apgar_categoria  \n",
      "0    Única        4.0    10.0             NaN  \n",
      "1    Única        4.0     9.0          Normal  \n",
      "2    Única        4.0    10.0             NaN  \n",
      "3    Única        3.0    10.0             NaN  \n",
      "4    Única        4.0    10.0             NaN  \n"
     ]
    },
    {
     "name": "stderr",
     "output_type": "stream",
     "text": [
      "C:\\Users\\Administrador\\AppData\\Local\\Temp\\ipykernel_6320\\1749524969.py:3: SettingWithCopyWarning: \n",
      "A value is trying to be set on a copy of a slice from a DataFrame\n",
      "\n",
      "See the caveats in the documentation: https://pandas.pydata.org/pandas-docs/stable/user_guide/indexing.html#returning-a-view-versus-a-copy\n",
      "  sinasc_filtrado.rename(columns=lambda x: x.lower().replace(' ', '_'), inplace=True)\n"
     ]
    }
   ],
   "source": [
    "sinasc_filtrado.rename(columns=lambda x: x.lower().replace(' ', '_'), inplace=True)\n",
    "\n",
    "# Exibir as primeiras linhas do DataFrame após a renomeação\n",
    "print(\"\\nDataFrame com colunas em snake_case:\")\n",
    "print(sinasc_filtrado.head())"
   ]
  }
 ],
 "metadata": {
  "kernelspec": {
   "display_name": "Python 3 (ipykernel)",
   "language": "python",
   "name": "python3"
  },
  "language_info": {
   "codemirror_mode": {
    "name": "ipython",
    "version": 3
   },
   "file_extension": ".py",
   "mimetype": "text/x-python",
   "name": "python",
   "nbconvert_exporter": "python",
   "pygments_lexer": "ipython3",
   "version": "3.11.5"
  }
 },
 "nbformat": 4,
 "nbformat_minor": 4
}
